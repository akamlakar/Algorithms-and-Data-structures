{
 "cells": [
  {
   "cell_type": "code",
   "execution_count": 1,
   "metadata": {
    "collapsed": false
   },
   "outputs": [
    {
     "name": "stdout",
     "output_type": "stream",
     "text": [
      "Pattern found at index 0\n",
      "Pattern found at index 9\n",
      "Pattern found at index 13\n",
      "Pattern found at index 18\n"
     ]
    }
   ],
   "source": [
    "\"\"\"\n",
    "Naive pattern searching\n",
    "\n",
    "Given a text txt[0..n-1] and a pattern pat[0..m-1], write a function search(char pat[], char txt[]) that prints all occurrences of pat[] in txt[]. You may assume that n > m.\n",
    "\n",
    "Examples:\n",
    "1) Input:\n",
    "\n",
    "  txt[] =  \"THIS IS A TEST TEXT\"\n",
    "  pat[] = \"TEST\"\n",
    "Output:\n",
    "\n",
    "Pattern found at index 10\n",
    "2) Input:\n",
    "\n",
    "  txt[] =  \"AABAACAADAABAAABAA\"\n",
    "  pat[] = \"AABA\"\n",
    "Output:\n",
    "\n",
    "   Pattern found at index 0\n",
    "   Pattern found at index 9\n",
    "   Pattern found at index 13\n",
    "\"\"\"\n",
    "def pattern_search(txt, pattern):\n",
    "    x = 0\n",
    "    txt_len = len(text)\n",
    "    pat_len = len(pattern)\n",
    "    while x < txt_len-pat_len+1:\n",
    "        curr = x\n",
    "        y = 0\n",
    "        while y < pat_len and pattern[y] == txt[x]:\n",
    "            y += 1\n",
    "            x += 1\n",
    "        \n",
    "        if y == len(pattern):\n",
    "            print \"Pattern found at index \" + str(curr)\n",
    "        else:\n",
    "            x = curr + 1\n",
    "\n",
    "            \n",
    "text = \"AABAACAADAABAAABAAAABA\"\n",
    "pattern = \"AABA\"\n",
    "pattern_search(text, pattern)"
   ]
  },
  {
   "cell_type": "code",
   "execution_count": null,
   "metadata": {
    "collapsed": true
   },
   "outputs": [],
   "source": []
  }
 ],
 "metadata": {
  "kernelspec": {
   "display_name": "Python 2",
   "language": "python",
   "name": "python2"
  },
  "language_info": {
   "codemirror_mode": {
    "name": "ipython",
    "version": 2
   },
   "file_extension": ".py",
   "mimetype": "text/x-python",
   "name": "python",
   "nbconvert_exporter": "python",
   "pygments_lexer": "ipython2",
   "version": "2.7.11+"
  }
 },
 "nbformat": 4,
 "nbformat_minor": 0
}
